{
  "nbformat": 4,
  "nbformat_minor": 0,
  "metadata": {
    "colab": {
      "provenance": []
    },
    "kernelspec": {
      "name": "python3",
      "display_name": "Python 3"
    },
    "language_info": {
      "name": "python"
    }
  },
  "cells": [
    {
      "cell_type": "markdown",
      "source": [
        "# 📌 **Fast Prompting en Acción: Mejora de Estrategias de Marketing Digital mediante IA**\n",
        "## 🧠 **Autor:** Fabrizio Loroño  "
      ],
      "metadata": {
        "id": "w6t____XgRhk"
      }
    },
    {
      "cell_type": "markdown",
      "source": [
        "## **Objetivo**\n",
        "### Este notebook demuestra cómo el uso de **Fast Prompting** optimiza la generación de contenido para estrategias de marketing digital mediante IA. Se explorarán técn"
      ],
      "metadata": {
        "id": "43ulec-PgWGK"
      }
    },
    {
      "cell_type": "code",
      "execution_count": null,
      "metadata": {
        "id": "cX206s3KgON5"
      },
      "outputs": [],
      "source": [
        "import openai\n",
        "import requests\n",
        "from PIL import Image\n",
        "from io import BytesIO\n",
        "\n",
        "openai.api_key = \"\""
      ]
    },
    {
      "cell_type": "code",
      "source": [
        "# Prompt básico (Zero-shot)\n",
        "respuesta_basica = openai.ChatCompletion.create(\n",
        "    model=\"gpt-4\",\n",
        "    messages=[{\"role\": \"system\", \"content\": \"Eres un experto en marketing digital.\"},\n",
        "              {\"role\": \"user\", \"content\": \"Escribe un post de Instagram para una oferta de zapatos deportivos.\"}]\n",
        ")\n",
        "print(respuesta_basica['choices'][0]['message']['content'])\n",
        "\n",
        "# Prompt optimizado (Few-shot)\n",
        "respuesta_mejorada = openai.ChatCompletion.create(\n",
        "    model=\"gpt-4\",\n",
        "    messages=[{\"role\": \"system\", \"content\": \"Eres un experto en marketing digital.\"},\n",
        "              {\"role\": \"user\", \"content\": \"Aquí tienes ejemplos de posts exitosos: '🎉 ¡Corre a conseguir los mejores descuentos en zapatillas Nike! 🔥 #Running #Descuentos'. \\nAhora escribe uno nuevo para una marca de relojes deportivos.\"}]\n",
        ")\n",
        "print(respuesta_mejorada['choices'][0]['message']['content'])"
      ],
      "metadata": {
        "id": "i_x7BjNqgbkv"
      },
      "execution_count": null,
      "outputs": []
    },
    {
      "cell_type": "code",
      "source": [
        "# Prompt avanzado con estructura específica\n",
        "prompt_instagram = \"\"\"\n",
        "Eres un experto en marketing digital y redes sociales.\n",
        "Genera un post llamativo para Instagram promocionando una nueva línea de relojes deportivos.\n",
        "Usa emojis, hashtags populares y crea una llamada a la acción convincente.\n",
        "\"\"\"\n",
        "\n",
        "respuesta_post = openai.ChatCompletion.create(\n",
        "    model=\"gpt-4\",\n",
        "    messages=[{\"role\": \"system\", \"content\": \"Eres un experto en marketing digital.\"},\n",
        "              {\"role\": \"user\", \"content\": prompt_instagram}]\n",
        ")\n",
        "print(respuesta_post['choices'][0]['message']['content'])"
      ],
      "metadata": {
        "id": "xPzqja8_glNk"
      },
      "execution_count": null,
      "outputs": []
    },
    {
      "cell_type": "code",
      "source": [
        "# Prompt simple para imagen\n",
        "prompt_dalle = \"Reloj deportivo sobre fondo minimalista, luz natural, tonos metálicos.\"\n",
        "\n",
        "response = openai.Image.create(\n",
        "    model=\"dall-e-3\",\n",
        "    prompt=prompt_dalle,\n",
        "    n=1,\n",
        "    size=\"1024x1024\"\n",
        ")\n",
        "\n",
        "image_url = response[\"data\"][0][\"url\"]\n",
        "print(image_url)\n",
        "\n",
        "# Mostrar imagen en el notebook\n",
        "response_img = requests.get(image_url)\n",
        "img = Image.open(BytesIO(response_img.content))\n",
        "img.show()"
      ],
      "metadata": {
        "id": "GcEjNYBogp68"
      },
      "execution_count": null,
      "outputs": []
    },
    {
      "cell_type": "markdown",
      "source": [
        "## 🔍 **Conclusiones**\n",
        "- La optimización de prompts mediante técnicas de Fast Prompting mejora la calidad del contenido generado.\n",
        "- El uso de ejemplos en los prompts (Few-shot) ofrece mejores resultados que los Zero-shot.\n",
        "- La reducción de consultas a la API optimiza costos sin afectar la calidad."
      ],
      "metadata": {
        "id": "Ff4hEu82grxy"
      }
    },
    {
      "cell_type": "markdown",
      "source": [
        "## 📌 **Próximos pasos**\n",
        "✅ Integrar más ejemplos de prompts optimizados.  \n",
        "✅ Experimentar con otras herramientas de generación de imágenes.  \n",
        "✅ Mejorar la personalización del contenido generado con IA.  "
      ],
      "metadata": {
        "id": "BW6WM2INgtdP"
      }
    }
  ]
}
